
{
  "nbformat": 4,
  "nbformat_minor": 0,
  "metadata": {
    "colab": {
      "provenance": [],
      "authorship_tag": "ABX9TyPNe3KBOHaA5n4oI5lV/RWE",
      "include_colab_link": true
    },
    "kernelspec": {
      "name": "python3",
      "display_name": "Python 3"
    },
    "language_info": {
      "name": "python"
    }
  },
  "cells": [
    {
      "cell_type": "markdown",
      "metadata": {
        "id": "view-in-github",
        "colab_type": "text"
      },
      "source": [
        "<a href=\"https://colab.research.google.com/github/rahul-tc/Python/blob/main/Python_Primer_101_HW.ipynb\" target=\"_parent\"><img src=\"https://colab.research.google.com/assets/colab-badge.svg\" alt=\"Open In Colab\"/></a>"
      ]
    },
    {
      "cell_type": "markdown",
      "source": [
        "# Final: **3 Review Case Challenges** (All-in-One)\n",
        "\n",
        "## Case 1: Meditation App Ratings\n",
        "\n",
        "### Description:\n",
        "\n",
        "You have received 5 user reviews for your meditation app.\n",
        "\n",
        "Each review ends with a rating (1 to 5).\n",
        "\n",
        "You want to **clean the text**, **split out the rating**, and **classify sentiment**.\n",
        "\n",
        "### Tasks:\n",
        "\n",
        "1. Write a function `parse_line(line)` that splits review and rating using `rsplit()`.\n",
        "2. Write a function `clean_text(txt)` that:\n",
        "    - Lowercases\n",
        "    - Strips\n",
        "    - Removes punctuation\n",
        "3. Write a function `classify_sentiment(rating)`:\n",
        "    - 1–2 → Negative\n",
        "    - 3 → Neutral\n",
        "    - 4–5 → Positive\n",
        "4. For each review:\n",
        "    - Use your functions to process the text\n",
        "    - Print cleaned review, rating, and sentiment\n",
        "    "
      ],
      "metadata": {
        "id": "KRDXBAdd6ElT"
      }
    },
    {
      "cell_type": "code",
      "execution_count": 3,
      "metadata": {
        "colab": {
          "base_uri": "https://localhost:8080/"
        },
        "id": "9QvoHeFL58-_",
        "outputId": "24bd4f20-efd9-4785-b204-0e17eeb58198"
      },
      "outputs": [
        {
          "output_type": "stream",
          "name": "stdout",
          "text": [
            "Cleaned review: amazing sessions very relaxing\n",
            "Rating: 5\n",
            "Sentiment: Positive\n",
            "---\n",
            "Cleaned review: app crashes frequently\n",
            "Rating: 1\n",
            "Sentiment: Negative\n",
            "---\n",
            "Cleaned review: good enough needs more music\n",
            "Rating: 3\n",
            "Sentiment: Neutral\n",
            "---\n",
            "Cleaned review: absolutely love it\n",
            "Rating: 5\n",
            "Sentiment: Positive\n",
            "---\n",
            "Cleaned review: not working as expected — refund\n",
            "Rating: 1\n",
            "Sentiment: Negative\n",
            "---\n"
          ]
        }
      ],
      "source": [
        "import string\n",
        "def parse_line(line):\n",
        "  review, rating = line.rsplit(\" \", 1)\n",
        "  return review.strip(), int(rating.strip())\n",
        "\n",
        "def clean_text(txt):\n",
        "  txt = txt.lower()\n",
        "  txt = txt.strip()\n",
        "  txt = txt.translate(str.maketrans('','',string.punctuation))\n",
        "  return txt\n",
        "\n",
        "def classify_sentiment(rating):\n",
        "  if rating>=1 and rating<=2:\n",
        "    return \"Negative\"\n",
        "  elif rating == 3:\n",
        "    return \"Neutral\"\n",
        "  elif rating>=4 and rating<=5:\n",
        "    return \"Positive\"\n",
        "\n",
        "reviews = [\n",
        "    \"Amazing sessions, very relaxing 5\",\n",
        "    \"App crashes frequently 1\",\n",
        "    \"Good enough, needs more music 3\",\n",
        "    \"Absolutely love it 5\",\n",
        "    \"Not working as expected — refund 1\"\n",
        "]\n",
        "\n",
        "for review in reviews:\n",
        "  review_text, rating = parse_line(review)\n",
        "  cleaned_review = clean_text(review_text)\n",
        "  sentiment = classify_sentiment(rating)\n",
        "  print(f\"Cleaned review: {cleaned_review}\")\n",
        "  print(f\"Rating: {rating}\")\n",
        "  print(f\"Sentiment: {sentiment}\")\n",
        "  print(\"---\")\n"
      ]
    },
    {
      "cell_type": "markdown",
      "source": [
        "### Case 2: Movie Revie\n",
        "\n",
        "### Description:\n",
        "\n",
        "Ask 3 users to type in a review for a movie, followed by a rating (e.g., `\"Nice visuals 4\"`).\n",
        "\n",
        "Use input and functions to classify the reviews.\n",
        "\n",
        "### Tasks:\n",
        "\n",
        "1. Ask for 3 reviews using `input()` — each in format `\"Your review text <rating>\"`.\n",
        "2. Write:\n",
        "    - `parse_line(txt)`\n",
        "    - `clean_text(txt)`\n",
        "    - `classify_sentiment(rating)`\n",
        "3. For each user review:\n",
        "    - Parse, clean, classify, and print a message like:\n",
        "    \n",
        "You said: \"great storytelling\"\n",
        "Rating: 4\n",
        "Sentiment: Positive\n",
        "\n"
      ],
      "metadata": {
        "id": "abUSVIAe8L-4"
      }
    },
    {
      "cell_type": "code",
      "source": [
        "import string\n",
        "\n",
        "def parse_line(line):\n",
        "  review, rating = line.rsplit(\" \", 1)\n",
        "  return review.strip(), int(rating.strip())\n",
        "\n",
        "def clean_text(txt):\n",
        "  txt = txt.lower()\n",
        "  txt = txt.strip()\n",
        "  txt = txt.translate(str.maketrans('','',string.punctuation))\n",
        "  return txt\n",
        "\n",
        "def classify_sentiment(rating):\n",
        "  if rating>=1 and rating<=2:\n",
        "    return \"Negative\"\n",
        "  elif rating == 3:\n",
        "    return \"Neutral\"\n",
        "  elif rating>=4 and rating<=5:\n",
        "    return \"Positive\"\n",
        "\n",
        "for i in range(3):\n",
        "  review = input(f\"User {i+1}, enter your review and rating (for e.g.- 'Nice Visual 4'): \")\n",
        "  review_text, rating = parse_line(review)\n",
        "  cleaned_review = clean_text(review_text)\n",
        "  sentiment = classify_sentiment(rating)\n",
        "  print(f\"You said: \\\"{cleaned_review}\\\"\")\n",
        "  print(f\"Rating: {rating}\")\n",
        "  print(f\"Sentiment: {sentiment}\")\n",
        "  print(\"---\")\n"
      ],
      "metadata": {
        "colab": {
          "base_uri": "https://localhost:8080/"
        },
        "id": "c6snGmhX8a4k",
        "outputId": "e745f7d1-224e-4e07-9e8a-5dc80ea33da4"
      },
      "execution_count": 6,
      "outputs": [
        {
          "output_type": "stream",
          "name": "stdout",
          "text": [
            "User 1, enter your review and rating (for e.g.- 'Nice Visual 4'): Nice Movie 3\n",
            "You said: \"nice movie\"\n",
            "Rating: 3\n",
            "Sentiment: Neutral\n",
            "---\n",
            "User 2, enter your review and rating (for e.g.- 'Nice Visual 4'): Bad Movie 3\n",
            "You said: \"bad movie\"\n",
            "Rating: 3\n",
            "Sentiment: Neutral\n",
            "---\n",
            "User 3, enter your review and rating (for e.g.- 'Nice Visual 4'): Good one 4\n",
            "You said: \"good one\"\n",
            "Rating: 4\n",
            "Sentiment: Positive\n",
            "---\n"
          ]
        }
      ]
    },
    {
      "cell_type": "markdown",
      "source": [
        "# **Case Study 3: Sleep App — Length Classifier**\n",
        "\n",
        "### Description:\n",
        "\n",
        "You’re building a sleep tracker app.\n",
        "\n",
        "You want to classify user feedback by how **long** the review is.\n",
        "### Tasks:\n",
        "\n",
        "1. Use `parse_line()` and `clean_text()` as before.\n",
        "2. Write a new function `classify_length(txt)`:\n",
        "    - 0–3 words → Very Short\n",
        "    - 4–7 words → Short\n",
        "    - 8+ words → Long\n",
        "3. For each feedback:\n",
        "    - Clean the review\n",
        "    - Print: Cleaned Text, Length Category\n",
        "    "
      ],
      "metadata": {
        "id": "jy0QBzHr9gBN"
      }
    },
    {
      "cell_type": "code",
      "source": [
        "import string\n",
        "\n",
        "def parse_line(line):\n",
        "  review, rating = line.rsplit(\" \", 1)\n",
        "  return review.strip(), int(rating.strip())\n",
        "\n",
        "def clean_text(txt):\n",
        "  txt = txt.lower()\n",
        "  txt = txt.strip()\n",
        "  txt = txt.translate(str.maketrans('','',string.punctuation))\n",
        "  return txt\n",
        "\n",
        "def classify_length(txt):\n",
        "    words = txt.split()\n",
        "    num_words = len(words)\n",
        "    if num_words <= 3:\n",
        "        return \"Very Short\"\n",
        "    elif num_words <= 7:\n",
        "        return \"Short\"\n",
        "    else:\n",
        "        return \"Long\"\n",
        "\n",
        "feedbacks = [\n",
        "    \"Amazing app for sleep 5\",\n",
        "    \"Could be better 2\",\n",
        "    \"Not working as expected — refund 1\",\n",
        "    \"Good enough, needs more features 3\",\n",
        "    \"Excellent for sleep tracking, highly recommend 5\"\n",
        "]\n",
        "\n",
        "for feedback in feedbacks:\n",
        "  feedback_text, rating = parse_line(feedback)\n",
        "  cleaned_feedback = clean_text(feedback_text)\n",
        "  length_category = classify_length(cleaned_feedback)\n",
        "  print(f\"Cleaned Text: {cleaned_feedback}\")\n",
        "  print(f\"Length Category: {length_category}\")\n",
        "  print(\"---\")"
      ],
      "metadata": {
        "colab": {
          "base_uri": "https://localhost:8080/"
        },
        "id": "xJQvNuJ59wtm",
        "outputId": "47dcb915-fe6e-4187-8782-fa247e103fb3"
      },
      "execution_count": 9,
      "outputs": [
        {
          "output_type": "stream",
          "name": "stdout",
          "text": [
            "Cleaned Text: amazing app for sleep\n",
            "Length Category: Short\n",
            "---\n",
            "Cleaned Text: could be better\n",
            "Length Category: Very Short\n",
            "---\n",
            "Cleaned Text: not working as expected — refund\n",
            "Length Category: Short\n",
            "---\n",
            "Cleaned Text: good enough needs more features\n",
            "Length Category: Short\n",
            "---\n",
            "Cleaned Text: excellent for sleep tracking highly recommend\n",
            "Length Category: Short\n",
            "---\n"
          ]
        }
      ]
    }
  ]
}
