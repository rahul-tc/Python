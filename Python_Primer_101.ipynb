{
  "nbformat": 4,
  "nbformat_minor": 0,
  "metadata": {
    "colab": {
      "provenance": [],
      "authorship_tag": "ABX9TyPQxmx54EHxuGg1jrYzAiae",
      "include_colab_link": true
    },
    "kernelspec": {
      "name": "python3",
      "display_name": "Python 3"
    },
    "language_info": {
      "name": "python"
    }
  },
  "cells": [
    {
      "cell_type": "markdown",
      "metadata": {
        "id": "view-in-github",
        "colab_type": "text"
      },
      "source": [
        "<a href=\"https://colab.research.google.com/github/rahul-tc/WS-Cube/blob/main/Python_Primer_101.ipynb\" target=\"_parent\"><img src=\"https://colab.research.google.com/assets/colab-badge.svg\" alt=\"Open In Colab\"/></a>"
      ]
    },
    {
      "cell_type": "markdown",
      "source": [
        "PYP1: Python Primer\n"
      ],
      "metadata": {
        "id": "2FgBhTah6ztS"
      }
    },
    {
      "cell_type": "code",
      "execution_count": 1,
      "metadata": {
        "colab": {
          "base_uri": "https://localhost:8080/"
        },
        "id": "oaxwp7SA5mDb",
        "outputId": "1f4c6da8-b018-474a-c4be-be984a5bac4d"
      },
      "outputs": [
        {
          "output_type": "stream",
          "name": "stdout",
          "text": [
            "I have joined the pyhton primer session.\n"
          ]
        }
      ],
      "source": [
        "print(\"I have joined the pyhton primer session.\")"
      ]
    },
    {
      "cell_type": "code",
      "source": [
        "#User input and f strings\n",
        "name = \"Rahul\" #assigned a string value to a variable name \"name\"\n",
        "random_variable = f\"Hello {name}, what is your favorite movie?\"\n",
        "print(random_variable)"
      ],
      "metadata": {
        "colab": {
          "base_uri": "https://localhost:8080/"
        },
        "id": "ceNCXuJD8Hdn",
        "outputId": "aad7faa5-d2db-4444-c5b7-582c4d0893ed"
      },
      "execution_count": 2,
      "outputs": [
        {
          "output_type": "stream",
          "name": "stdout",
          "text": [
            "Hello Rahul, what is your favorite movie?\n"
          ]
        }
      ]
    },
    {
      "cell_type": "code",
      "source": [
        "name = \"Rahul\"\n",
        "food = input(\"what is your favorite movie? \")\n",
        "print(\"Hey , your favorite movie is\", food)\n",
        "print(f\"Hey {name}, your age is \", food)"
      ],
      "metadata": {
        "colab": {
          "base_uri": "https://localhost:8080/"
        },
        "id": "aDNOYPNd-RGb",
        "outputId": "29621153-1bb6-4893-ede0-6b1cf55820eb"
      },
      "execution_count": 3,
      "outputs": [
        {
          "output_type": "stream",
          "name": "stdout",
          "text": [
            "what is your favorite movie? 22\n",
            "Hey , your favorite movie is 22\n",
            "Hey Rahul, your age is  22\n"
          ]
        }
      ]
    },
    {
      "cell_type": "code",
      "source": [
        "# Step 1: clean the data\n",
        "# user reviews and ratings that the users have given to a product\n",
        "\n",
        "line = \"Loved the product! 5\"\n",
        "line1 = \"Hate the product! 2\"\n",
        "review, rating = line.rsplit(\" \",1)\n",
        "review, rating = line1.rsplit(\" \",1)\n",
        "print(review)\n",
        "print(int(rating))"
      ],
      "metadata": {
        "colab": {
          "base_uri": "https://localhost:8080/"
        },
        "id": "9pO15oO0nG9O",
        "outputId": "84c0924c-fb5c-4c14-d96c-2437a4004004"
      },
      "execution_count": 5,
      "outputs": [
        {
          "output_type": "stream",
          "name": "stdout",
          "text": [
            "Hate the product!\n",
            "2\n"
          ]
        }
      ]
    },
    {
      "cell_type": "code",
      "source": [
        "# Let's welcome functions\n",
        "def pranjal(txt123):\n",
        "  review, rating = txt123.rsplit(\" \",1)\n",
        "  return review, rating\n",
        "\n",
        "line = (\"Loved the product! 5\" )\n",
        "print(pranjal(line))"
      ],
      "metadata": {
        "colab": {
          "base_uri": "https://localhost:8080/"
        },
        "id": "6F05NN2anZ-Z",
        "outputId": "7957848a-2dcf-4606-eb22-3a2a282239f0"
      },
      "execution_count": 6,
      "outputs": [
        {
          "output_type": "stream",
          "name": "stdout",
          "text": [
            "('Loved the product!', '5')\n"
          ]
        }
      ]
    },
    {
      "cell_type": "code",
      "source": [
        "# let's clean the data\n",
        "import string\n",
        "def cleaned_text(txt): #yash is a function's name, txt is a dummy variable name that defines what to do inside the function\n",
        "  txt = txt.lower()\n",
        "  txt = txt.translate(str.maketrans('','',string.punctuation))\n",
        "  return txt\n",
        "\n",
        "line = \"Superb!! BRavo! What a code..@&\"\n",
        "print(cleaned_text(line))\n",
        "# print(string.punctuation)"
      ],
      "metadata": {
        "colab": {
          "base_uri": "https://localhost:8080/"
        },
        "id": "APDYpEHbndDB",
        "outputId": "b2559e8b-b01f-41db-a9c3-669813578f58"
      },
      "execution_count": 7,
      "outputs": [
        {
          "output_type": "stream",
          "name": "stdout",
          "text": [
            "superb bravo what a code\n"
          ]
        }
      ]
    },
    {
      "cell_type": "code",
      "source": [
        "# classification of data sets using if/else\n",
        "\n",
        "def classify_datasets(rating):\n",
        "  if rating>=4:\n",
        "    return \"Good Product\"\n",
        "  elif rating>=2 and rating<=3:\n",
        "    return \"Average Product\"\n",
        "  else:\n",
        "    return \"Bad Product\"\n",
        "\n",
        "decode = classify_datasets(int(input(\"What is the product rating you want to give? \")))\n",
        "print(decode)"
      ],
      "metadata": {
        "colab": {
          "base_uri": "https://localhost:8080/"
        },
        "id": "MFzYhZw9nfsP",
        "outputId": "c3cd2635-8e31-4896-cf1c-63bd2fd89226"
      },
      "execution_count": 8,
      "outputs": [
        {
          "output_type": "stream",
          "name": "stdout",
          "text": [
            "What is the product rating you want to give? 3\n",
            "Average Product\n"
          ]
        }
      ]
    }
  ]
}